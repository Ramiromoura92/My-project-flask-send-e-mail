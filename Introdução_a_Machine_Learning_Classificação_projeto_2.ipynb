{
  "nbformat": 4,
  "nbformat_minor": 0,
  "metadata": {
    "colab": {
      "name": "Introdução a Machine Learning Classificação projeto 2.ipynb",
      "provenance": [],
      "authorship_tag": "ABX9TyP1lYAnsKzoRVr4dopP8yn9",
      "include_colab_link": true
    },
    "kernelspec": {
      "name": "python3",
      "display_name": "Python 3"
    },
    "language_info": {
      "name": "python"
    }
  },
  "cells": [
    {
      "cell_type": "markdown",
      "metadata": {
        "id": "view-in-github",
        "colab_type": "text"
      },
      "source": [
        "<a href=\"https://colab.research.google.com/github/Ramiromoura92/My-project-flask-send-e-mail/blob/master/Introdu%C3%A7%C3%A3o_a_Machine_Learning_Classifica%C3%A7%C3%A3o_projeto_2.ipynb\" target=\"_parent\"><img src=\"https://colab.research.google.com/assets/colab-badge.svg\" alt=\"Open In Colab\"/></a>"
      ]
    },
    {
      "cell_type": "code",
      "execution_count": null,
      "metadata": {
        "colab": {
          "base_uri": "https://localhost:8080/",
          "height": 206
        },
        "id": "doW_csh0_fi7",
        "outputId": "89c5c38b-6055-4a3e-e5bb-683c43461c8c"
      },
      "outputs": [
        {
          "output_type": "execute_result",
          "data": {
            "text/plain": [
              "   home  how_it_works  contact  bought\n",
              "0     1             1        0       0\n",
              "1     1             1        0       0\n",
              "2     1             1        0       0\n",
              "3     1             1        0       0\n",
              "4     1             1        0       0"
            ],
            "text/html": [
              "\n",
              "  <div id=\"df-66d2f4b9-9a00-4bec-8075-b045c6afb895\">\n",
              "    <div class=\"colab-df-container\">\n",
              "      <div>\n",
              "<style scoped>\n",
              "    .dataframe tbody tr th:only-of-type {\n",
              "        vertical-align: middle;\n",
              "    }\n",
              "\n",
              "    .dataframe tbody tr th {\n",
              "        vertical-align: top;\n",
              "    }\n",
              "\n",
              "    .dataframe thead th {\n",
              "        text-align: right;\n",
              "    }\n",
              "</style>\n",
              "<table border=\"1\" class=\"dataframe\">\n",
              "  <thead>\n",
              "    <tr style=\"text-align: right;\">\n",
              "      <th></th>\n",
              "      <th>home</th>\n",
              "      <th>how_it_works</th>\n",
              "      <th>contact</th>\n",
              "      <th>bought</th>\n",
              "    </tr>\n",
              "  </thead>\n",
              "  <tbody>\n",
              "    <tr>\n",
              "      <th>0</th>\n",
              "      <td>1</td>\n",
              "      <td>1</td>\n",
              "      <td>0</td>\n",
              "      <td>0</td>\n",
              "    </tr>\n",
              "    <tr>\n",
              "      <th>1</th>\n",
              "      <td>1</td>\n",
              "      <td>1</td>\n",
              "      <td>0</td>\n",
              "      <td>0</td>\n",
              "    </tr>\n",
              "    <tr>\n",
              "      <th>2</th>\n",
              "      <td>1</td>\n",
              "      <td>1</td>\n",
              "      <td>0</td>\n",
              "      <td>0</td>\n",
              "    </tr>\n",
              "    <tr>\n",
              "      <th>3</th>\n",
              "      <td>1</td>\n",
              "      <td>1</td>\n",
              "      <td>0</td>\n",
              "      <td>0</td>\n",
              "    </tr>\n",
              "    <tr>\n",
              "      <th>4</th>\n",
              "      <td>1</td>\n",
              "      <td>1</td>\n",
              "      <td>0</td>\n",
              "      <td>0</td>\n",
              "    </tr>\n",
              "  </tbody>\n",
              "</table>\n",
              "</div>\n",
              "      <button class=\"colab-df-convert\" onclick=\"convertToInteractive('df-66d2f4b9-9a00-4bec-8075-b045c6afb895')\"\n",
              "              title=\"Convert this dataframe to an interactive table.\"\n",
              "              style=\"display:none;\">\n",
              "        \n",
              "  <svg xmlns=\"http://www.w3.org/2000/svg\" height=\"24px\"viewBox=\"0 0 24 24\"\n",
              "       width=\"24px\">\n",
              "    <path d=\"M0 0h24v24H0V0z\" fill=\"none\"/>\n",
              "    <path d=\"M18.56 5.44l.94 2.06.94-2.06 2.06-.94-2.06-.94-.94-2.06-.94 2.06-2.06.94zm-11 1L8.5 8.5l.94-2.06 2.06-.94-2.06-.94L8.5 2.5l-.94 2.06-2.06.94zm10 10l.94 2.06.94-2.06 2.06-.94-2.06-.94-.94-2.06-.94 2.06-2.06.94z\"/><path d=\"M17.41 7.96l-1.37-1.37c-.4-.4-.92-.59-1.43-.59-.52 0-1.04.2-1.43.59L10.3 9.45l-7.72 7.72c-.78.78-.78 2.05 0 2.83L4 21.41c.39.39.9.59 1.41.59.51 0 1.02-.2 1.41-.59l7.78-7.78 2.81-2.81c.8-.78.8-2.07 0-2.86zM5.41 20L4 18.59l7.72-7.72 1.47 1.35L5.41 20z\"/>\n",
              "  </svg>\n",
              "      </button>\n",
              "      \n",
              "  <style>\n",
              "    .colab-df-container {\n",
              "      display:flex;\n",
              "      flex-wrap:wrap;\n",
              "      gap: 12px;\n",
              "    }\n",
              "\n",
              "    .colab-df-convert {\n",
              "      background-color: #E8F0FE;\n",
              "      border: none;\n",
              "      border-radius: 50%;\n",
              "      cursor: pointer;\n",
              "      display: none;\n",
              "      fill: #1967D2;\n",
              "      height: 32px;\n",
              "      padding: 0 0 0 0;\n",
              "      width: 32px;\n",
              "    }\n",
              "\n",
              "    .colab-df-convert:hover {\n",
              "      background-color: #E2EBFA;\n",
              "      box-shadow: 0px 1px 2px rgba(60, 64, 67, 0.3), 0px 1px 3px 1px rgba(60, 64, 67, 0.15);\n",
              "      fill: #174EA6;\n",
              "    }\n",
              "\n",
              "    [theme=dark] .colab-df-convert {\n",
              "      background-color: #3B4455;\n",
              "      fill: #D2E3FC;\n",
              "    }\n",
              "\n",
              "    [theme=dark] .colab-df-convert:hover {\n",
              "      background-color: #434B5C;\n",
              "      box-shadow: 0px 1px 3px 1px rgba(0, 0, 0, 0.15);\n",
              "      filter: drop-shadow(0px 1px 2px rgba(0, 0, 0, 0.3));\n",
              "      fill: #FFFFFF;\n",
              "    }\n",
              "  </style>\n",
              "\n",
              "      <script>\n",
              "        const buttonEl =\n",
              "          document.querySelector('#df-66d2f4b9-9a00-4bec-8075-b045c6afb895 button.colab-df-convert');\n",
              "        buttonEl.style.display =\n",
              "          google.colab.kernel.accessAllowed ? 'block' : 'none';\n",
              "\n",
              "        async function convertToInteractive(key) {\n",
              "          const element = document.querySelector('#df-66d2f4b9-9a00-4bec-8075-b045c6afb895');\n",
              "          const dataTable =\n",
              "            await google.colab.kernel.invokeFunction('convertToInteractive',\n",
              "                                                     [key], {});\n",
              "          if (!dataTable) return;\n",
              "\n",
              "          const docLinkHtml = 'Like what you see? Visit the ' +\n",
              "            '<a target=\"_blank\" href=https://colab.research.google.com/notebooks/data_table.ipynb>data table notebook</a>'\n",
              "            + ' to learn more about interactive tables.';\n",
              "          element.innerHTML = '';\n",
              "          dataTable['output_type'] = 'display_data';\n",
              "          await google.colab.output.renderOutput(dataTable, element);\n",
              "          const docLink = document.createElement('div');\n",
              "          docLink.innerHTML = docLinkHtml;\n",
              "          element.appendChild(docLink);\n",
              "        }\n",
              "      </script>\n",
              "    </div>\n",
              "  </div>\n",
              "  "
            ]
          },
          "metadata": {},
          "execution_count": 1
        }
      ],
      "source": [
        "# Features: \n",
        "# home 0 -> Usuário específico não acessou a página // 1 -> Usuário específico acessou a página.\n",
        "# how_it_works 0 -> Usuário específico não acessou a página // 1 -> Usuário específico acessou a página.\n",
        "# contact 0 -> Usuário específico não acessou a página // 1 -> Usuário específico acessou a página.\n",
        "# bought 0 -> Não comprou // 1-> Comprou.\n",
        "\n",
        "import pandas as pd # Leitura de arquivo csv. \n",
        "\n",
        "uri = \"https://gist.githubusercontent.com/guilhermesilveira/2d2efa37d66b6c84a722ea627a897ced/raw/10968b997d885cbded1c92938c7a9912ba41c615/tracking.csv\"\n",
        "\n",
        "dados = pd.read_csv(uri) #\"leia um arquivo csv\".\n",
        "dados.head() #Imprimir por padrão somente as 5 primeiras linhas."
      ]
    },
    {
      "cell_type": "code",
      "source": [
        "mapa = {\n",
        "    \"home\":\"principal\",\n",
        "    \"how_it_works\":\"como_funciona\",\n",
        "    \"contact\":\"contato\",\n",
        "    \"bought\":\"comprou\"\n",
        "} #Criando um dicionário chamado \"mapa\" e nomeando minhas features em inglês com outras chaves de valores em português.\n",
        "\n",
        "dados = dados.rename(columns = mapa )#trocando os nomes das features para português, caso queira ou seja necessário // Alterando a referencia da antiga tabela, para essa tabela nova (dados = dados.rename)"
      ],
      "metadata": {
        "id": "UrZSRj2JGKlO"
      },
      "execution_count": null,
      "outputs": []
    },
    {
      "cell_type": "code",
      "source": [
        "#Separar as features(home, how_it_works) -> Como se fossem o nosso x de uma função qualquer, da coluna de bought.\n",
        "x = dados[['principal', 'como_funciona', 'contato']] # Passando os dados dentro de um array, pois precisamos passar várias colunas. \"Dentro de uma lista do python, eu quero buscar essas colunas\"\n",
        "y = dados['comprou']\n",
        "x.head()\n",
        "y.head()\n"
      ],
      "metadata": {
        "colab": {
          "base_uri": "https://localhost:8080/"
        },
        "id": "-hAt08olAThd",
        "outputId": "65f13a42-60f2-4555-931f-952a58370649"
      },
      "execution_count": null,
      "outputs": [
        {
          "output_type": "execute_result",
          "data": {
            "text/plain": [
              "0    0\n",
              "1    0\n",
              "2    0\n",
              "3    0\n",
              "4    0\n",
              "Name: comprou, dtype: int64"
            ]
          },
          "metadata": {},
          "execution_count": 3
        }
      ]
    },
    {
      "cell_type": "code",
      "source": [
        "dados.shape #Saber o formato dos dados"
      ],
      "metadata": {
        "colab": {
          "base_uri": "https://localhost:8080/"
        },
        "id": "5LMAFwAlIjmJ",
        "outputId": "3b59cf27-b426-4abb-afa0-df55d137a1a5"
      },
      "execution_count": null,
      "outputs": [
        {
          "output_type": "execute_result",
          "data": {
            "text/plain": [
              "(99, 4)"
            ]
          },
          "metadata": {},
          "execution_count": 4
        }
      ]
    },
    {
      "cell_type": "code",
      "source": [
        "#Separando dados de teste e dados de treino (25% para testar e 75% para treino)\n",
        "\n",
        "treino_x = x[:75] # Pegando 75 elementos da minha tabela para treino \n",
        "treino_y = y[:75]\n",
        "teste_x = x[75:] # A partir do 75\n",
        "teste_y = y[75:] \n",
        "\n",
        "print(\"Treinaremos com %d elementos e testaremos com %d elementos\" % (len(treino_x),len(teste_x)))"
      ],
      "metadata": {
        "colab": {
          "base_uri": "https://localhost:8080/"
        },
        "id": "7c2WP-AwMTN9",
        "outputId": "dd19a4b4-7e91-499d-a799-490e2e3923c2"
      },
      "execution_count": null,
      "outputs": [
        {
          "output_type": "stream",
          "name": "stdout",
          "text": [
            "Treinaremos com 75 elementos e testaremos com 24 elementos\n"
          ]
        }
      ]
    },
    {
      "cell_type": "code",
      "source": [
        "from sklearn.svm import LinearSVC #estimador\n",
        "from sklearn.metrics import accuracy_score\n",
        "modelo = LinearSVC()\n",
        "modelo.fit(treino_x, treino_y) #Treinando meu modelo com os dados de treino. \n"
      ],
      "metadata": {
        "colab": {
          "base_uri": "https://localhost:8080/"
        },
        "id": "eL4vMWHaPhJ1",
        "outputId": "eb913d70-6a69-45cc-cd99-89734500f5e2"
      },
      "execution_count": null,
      "outputs": [
        {
          "output_type": "execute_result",
          "data": {
            "text/plain": [
              "LinearSVC()"
            ]
          },
          "metadata": {},
          "execution_count": 6
        }
      ]
    },
    {
      "cell_type": "code",
      "source": [
        "previsoes = modelo.predict(teste_x) #Predizendo através dos meus dados de teste, após ser treinado com meus dados de treino\n",
        "taxa_de_acerto = accuracy_score(teste_y, previsoes)* 100 #Imprimir minha taxa de acerto ou \"acurácia\" - Comparação com os meus dados reais de teste\n",
        "print(\"A acurácia foi %.2f\" % taxa_de_acerto) "
      ],
      "metadata": {
        "colab": {
          "base_uri": "https://localhost:8080/"
        },
        "id": "XusHDHZ5P60P",
        "outputId": "6ad823c7-8124-43d4-aff2-b8aeb92298de"
      },
      "execution_count": null,
      "outputs": [
        {
          "output_type": "stream",
          "name": "stdout",
          "text": [
            "A acurácia foi 95.83\n"
          ]
        }
      ]
    },
    {
      "cell_type": "markdown",
      "source": [
        "# **# Usando a biblioteca para separar treino e teste.**"
      ],
      "metadata": {
        "id": "JezSxP2-i8yu"
      }
    },
    {
      "cell_type": "code",
      "source": [
        "from sklearn.model_selection import train_test_split #Separando o treino e teste de um conjunto de dados qualquer\n",
        "from sklearn.svm import LinearSVC #estimador\n",
        "from sklearn.metrics import accuracy_score\n",
        "\n",
        "\n",
        "SEED = 20  #Definindo a ordem dos números aleatórios\n",
        "\n",
        "#random_stateint, RandomState instance or None, default=None -> Controls the shuffling applied to the data before applying the split. Pass an int for reproducible output across multiple function calls.\n",
        "treino_x, teste_x, treino_y, teste_y = train_test_split(x, y, random_state = SEED, test_size = 0.25) #Separando os dados para treino e teste e estipulando o tamanho para o teste, também. \n",
        "print(\"Treinaremos com %d elementos e testaremos com %d elementos\" % (len(treino_x),len(teste_x)))\n",
        "\n",
        "modelo = LinearSVC()\n",
        "modelo.fit(treino_x, treino_y)\n",
        "\n",
        "previsoes = modelo.predict(teste_x) #Predizendo através dos meus dados de teste, após ser treinado com meus dados de treino\n",
        "taxa_de_acerto = accuracy_score(teste_y, previsoes)* 100 #Imprimir minha taxa de acerto ou \"acurácia\" - Comparação com os meus dados reais de teste\n",
        "print(\"A acurácia foi %.2f\" % taxa_de_acerto) \n",
        "\n"
      ],
      "metadata": {
        "colab": {
          "base_uri": "https://localhost:8080/"
        },
        "id": "bPiFXj9RfEIf",
        "outputId": "04ca76d3-7fba-4905-b5d9-0c5f81ffec3d"
      },
      "execution_count": null,
      "outputs": [
        {
          "output_type": "stream",
          "name": "stdout",
          "text": [
            "Treinaremos com 74 elementos e testaremos com 25 elementos\n",
            "A acurácia foi 96.00\n"
          ]
        }
      ]
    },
    {
      "cell_type": "code",
      "source": [
        "treino_y.value_counts() #contando quantos zeros e uns eu tenho no meu treino. \n"
      ],
      "metadata": {
        "id": "uPyeEjaLhiCA",
        "colab": {
          "base_uri": "https://localhost:8080/"
        },
        "outputId": "049a9bda-54a6-42d9-fb13-6b90968a3af4"
      },
      "execution_count": null,
      "outputs": [
        {
          "output_type": "execute_result",
          "data": {
            "text/plain": [
              "0    47\n",
              "1    27\n",
              "Name: comprou, dtype: int64"
            ]
          },
          "metadata": {},
          "execution_count": 14
        }
      ]
    },
    {
      "cell_type": "code",
      "source": [
        "teste_y.value_counts() #contando quantos zeros e uns eu tenho no meu treino. "
      ],
      "metadata": {
        "colab": {
          "base_uri": "https://localhost:8080/"
        },
        "id": "cFK5fGEUzcv1",
        "outputId": "2bfef373-8971-4d96-c205-116e7e5f0808"
      },
      "execution_count": null,
      "outputs": [
        {
          "output_type": "execute_result",
          "data": {
            "text/plain": [
              "0    19\n",
              "1     6\n",
              "Name: comprou, dtype: int64"
            ]
          },
          "metadata": {},
          "execution_count": 13
        }
      ]
    },
    {
      "cell_type": "code",
      "source": [
        "from sklearn.model_selection import train_test_split #Separando o treino e teste de um conjunto de dados qualquer\n",
        "from sklearn.svm import LinearSVC #estimador\n",
        "from sklearn.metrics import accuracy_score\n",
        "\n",
        "\n",
        "SEED = 20  #Definindo a ordem dos números aleatórios\n",
        "\n",
        "#random_stateint, RandomState instance or None, default=None -> Controls the shuffling applied to the data before applying the split. Pass an int for reproducible output across multiple function calls.\n",
        "treino_x, teste_x, treino_y, teste_y = train_test_split(x, y, random_state = SEED, stratify = y, test_size = 0.25) #Separando os dados para treino e teste e estipulando o tamanho para o teste, também. \n",
        "print(\"Treinaremos com %d elementos e testaremos com %d elementos\" % (len(treino_x),len(teste_x)))\n",
        "\n",
        "modelo = LinearSVC()\n",
        "modelo.fit(treino_x, treino_y)\n",
        "\n",
        "previsoes = modelo.predict(teste_x) #Predizendo através dos meus dados de teste, após ser treinado com meus dados de treino\n",
        "taxa_de_acerto = accuracy_score(teste_y, previsoes)* 100 #Imprimir minha taxa de acerto ou \"acurácia\" - Comparação com os meus dados reais de teste\n",
        "print(\"A acurácia foi %.2f\" % taxa_de_acerto) "
      ],
      "metadata": {
        "colab": {
          "base_uri": "https://localhost:8080/"
        },
        "id": "yJGQCq6I0U7A",
        "outputId": "cdee504e-98b8-4615-ae50-d016be107b04"
      },
      "execution_count": null,
      "outputs": [
        {
          "output_type": "stream",
          "name": "stdout",
          "text": [
            "Treinaremos com 74 elementos e testaremos com 25 elementos\n",
            "A acurácia foi 96.00\n"
          ]
        }
      ]
    },
    {
      "cell_type": "code",
      "source": [
        "treino_y.value_counts()"
      ],
      "metadata": {
        "colab": {
          "base_uri": "https://localhost:8080/"
        },
        "id": "VoQp3fXe1Jeo",
        "outputId": "4fb9fd6b-e6d7-49a4-a327-650de7acc453"
      },
      "execution_count": null,
      "outputs": [
        {
          "output_type": "execute_result",
          "data": {
            "text/plain": [
              "0    49\n",
              "1    25\n",
              "Name: comprou, dtype: int64"
            ]
          },
          "metadata": {},
          "execution_count": 16
        }
      ]
    },
    {
      "cell_type": "code",
      "source": [
        "teste_y.value_counts()"
      ],
      "metadata": {
        "colab": {
          "base_uri": "https://localhost:8080/"
        },
        "id": "rfnwwFXe1PUe",
        "outputId": "cd479a49-12d2-4284-dc1a-6a87daaa8c71"
      },
      "execution_count": null,
      "outputs": [
        {
          "output_type": "execute_result",
          "data": {
            "text/plain": [
              "0    17\n",
              "1     8\n",
              "Name: comprou, dtype: int64"
            ]
          },
          "metadata": {},
          "execution_count": 17
        }
      ]
    },
    {
      "cell_type": "code",
      "source": [
        ""
      ],
      "metadata": {
        "id": "Y_m90hgi1USA"
      },
      "execution_count": null,
      "outputs": []
    }
  ]
}