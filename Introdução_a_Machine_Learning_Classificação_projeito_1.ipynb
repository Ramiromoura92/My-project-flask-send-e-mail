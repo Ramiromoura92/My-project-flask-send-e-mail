{
  "nbformat": 4,
  "nbformat_minor": 0,
  "metadata": {
    "colab": {
      "name": "Introdução a Machine Learning Classificação projeito 1.ipynb",
      "provenance": [],
      "authorship_tag": "ABX9TyPRfQHYmCH8YN72ICh2EMNf",
      "include_colab_link": true
    },
    "kernelspec": {
      "name": "python3",
      "display_name": "Python 3"
    },
    "language_info": {
      "name": "python"
    }
  },
  "cells": [
    {
      "cell_type": "markdown",
      "metadata": {
        "id": "view-in-github",
        "colab_type": "text"
      },
      "source": [
        "<a href=\"https://colab.research.google.com/github/Ramiromoura92/My-project-flask-send-e-mail/blob/master/Introdu%C3%A7%C3%A3o_a_Machine_Learning_Classifica%C3%A7%C3%A3o_projeito_1.ipynb\" target=\"_parent\"><img src=\"https://colab.research.google.com/assets/colab-badge.svg\" alt=\"Open In Colab\"/></a>"
      ]
    },
    {
      "cell_type": "code",
      "execution_count": null,
      "metadata": {
        "id": "EqhI_iClq1T9"
      },
      "outputs": [],
      "source": [
        "# features (1 sim, 0 não )\n",
        "# Pelo longo?\n",
        "# Perna curta? \n",
        "# Faz au au? \n",
        "\n",
        "porco1 = [0, 1, 0]\n",
        "porco2 = [0, 1, 1]\n",
        "porco3 = [1, 1, 0]\n",
        "\n",
        "cachorro1 = [0, 1, 1]\n",
        "cachorro2 = [1, 0, 1]\n",
        "cachorro3 = [1, 1, 1]\n",
        "\n",
        "# 1 -> Porco, 0 ->Cachorro\n",
        "treino_x = [porco1, porco2, porco3, cachorro1, cachorro2, cachorro3]\n",
        "treino_y = [1,1,1,0,0,0] #minhas classes. Categorias que eu quero classificar - Labels/Etiquetas\n"
      ]
    },
    {
      "cell_type": "code",
      "source": [
        "# Estimador de classes (scikt-learn)\n",
        "from sklearn.svm import LinearSVC\n",
        "\n",
        "model = LinearSVC() #instanciando meu estimador \n",
        "model.fit(treino_x, treino_y) #Aprendendo os dados e as classes\n",
        "\n"
      ],
      "metadata": {
        "colab": {
          "base_uri": "https://localhost:8080/"
        },
        "id": "fScynk8StSsJ",
        "outputId": "d17d8a8f-ccda-4368-badb-c9dbac22fff4"
      },
      "execution_count": null,
      "outputs": [
        {
          "output_type": "execute_result",
          "data": {
            "text/plain": [
              "LinearSVC()"
            ]
          },
          "metadata": {},
          "execution_count": 2
        }
      ]
    },
    {
      "cell_type": "code",
      "source": [
        "animal_desconhecido = [1,1,1] \n",
        "model.predict([animal_desconhecido]) # Tentando predizer a classe desse animal/ Passando uma lista com 1 item e esse 1 item tem 3 features.   "
      ],
      "metadata": {
        "colab": {
          "base_uri": "https://localhost:8080/"
        },
        "id": "U-4MC0QRubPu",
        "outputId": "9fceead5-db75-476c-cbb7-deabcb31a326"
      },
      "execution_count": null,
      "outputs": [
        {
          "output_type": "execute_result",
          "data": {
            "text/plain": [
              "array([0])"
            ]
          },
          "metadata": {},
          "execution_count": 3
        }
      ]
    },
    {
      "cell_type": "code",
      "source": [
        "animal1 = [1,1,1]\n",
        "animal2 = [1,1,0]\n",
        "animal3 = [0,1,1]\n",
        "\n",
        "testes_x = [animal1, animal2, animal3] #Tratar esses casos como nosso teste/ rever o teste.\n",
        "testes_y = [0, 1, 1] # Lista do python\n",
        "previsoes = model.predict(testes_x)"
      ],
      "metadata": {
        "id": "Fb6PNwxdwlC5"
      },
      "execution_count": null,
      "outputs": []
    },
    {
      "cell_type": "code",
      "source": [
        "corretos = (previsoes == testes_y).sum() #Comparando minhas previsões com os dados de teste./ Somando para obter o número de acertos \n",
        "total = len(testes_x) #tamanho do teste realizado\n",
        "taxa_de_acerto = corretos/total \n",
        "\n",
        "print(\"Taxa de acerto %.2f\" % (taxa_de_acerto * 100))"
      ],
      "metadata": {
        "colab": {
          "base_uri": "https://localhost:8080/"
        },
        "id": "C3xNq6skx5QS",
        "outputId": "69ef38a6-828d-4386-c583-0bce252dcf0a"
      },
      "execution_count": null,
      "outputs": [
        {
          "output_type": "stream",
          "name": "stdout",
          "text": [
            "Taxa de acerto 66.67\n"
          ]
        }
      ]
    },
    {
      "cell_type": "code",
      "source": [
        "from sklearn.metrics import accuracy_score  \n",
        "#medir a taxa de acerto do meu modelo\n",
        "taxa_de_acerto = accuracy_score ( testes_y, previsoes)\n",
        "print (\"Taxa de acerto %.2f\" % (taxa_de_acerto * 100))\n"
      ],
      "metadata": {
        "colab": {
          "base_uri": "https://localhost:8080/"
        },
        "id": "kFM2gAauyLnr",
        "outputId": "7075ad21-1823-4919-8277-25afdd51eef9"
      },
      "execution_count": null,
      "outputs": [
        {
          "output_type": "stream",
          "name": "stdout",
          "text": [
            "Taxa de acerto 66.67\n"
          ]
        }
      ]
    }
  ]
}